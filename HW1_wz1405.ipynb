{
 "cells": [
  {
   "cell_type": "markdown",
   "metadata": {},
   "source": [
    "# Create a <i>reproducible research</i> chunk of code\n",
    "\n",
    "That means we want the reader to be able to reproduce every step of the work we do. \n",
    "\n",
    "If our work includes the use of stochastic processes and random variables that gets tricky: how do we assure the random draw gives the same number to the user that it gave to me? That is not random! \n",
    "\n",
    "That becomes possible because computers are unable to poduce truly random numbers. When we ask a computer to generate a random number, it will in fact generate a \"pseudo random\" number. The number will be randon in the sanse that it will be some number between, for example, 0 and 1 if we ask for a **uniform random distribution** or a number near 0 if we aks for a **Gaussian distribution with mean 0**. <i> But the sequence of pseudo-random numbers that a compujter generates will depend on its **seed**: if you know the seed you know all the numbers that are \"randomely\" drawn</i>.  \n",
    "\n",
    "You can read more about pseudorandom number generation in this wikipedia article https://en.wikipedia.org/wiki/Pseudorandom_number_generator\n",
    "\n",
    "Fill in the empty cells below with code, as directed."
   ]
  },
  {
   "cell_type": "code",
   "execution_count": 1,
   "metadata": {},
   "outputs": [],
   "source": [
    "from __future__ import print_function\n",
    "__author__ = \"Wenjie Zheng, CUSP NYU 2018\""
   ]
  },
  {
   "cell_type": "code",
   "execution_count": 1,
   "metadata": {},
   "outputs": [],
   "source": [
    "import os\n",
    "import sys\n",
    "\n",
    "# you can use the numpy library for random number generation: \n",
    "# http://docs.scipy.org/doc/numpy/reference/routines.random.html\n",
    "\n",
    "import numpy as np"
   ]
  },
  {
   "cell_type": "markdown",
   "metadata": {},
   "source": [
    "## THIS IS THE MOST IMPORTANT PIECE OF THIS CODE! \n",
    "### give numpy as seed for this code to be reproducible \n",
    "(no points if this is wrong)\n",
    "\n",
    "http://docs.scipy.org/doc/numpy/reference/generated/numpy.random.seed.html"
   ]
  },
  {
   "cell_type": "code",
   "execution_count": 104,
   "metadata": {},
   "outputs": [],
   "source": [
    "np.random.seed(355)"
   ]
  },
  {
   "cell_type": "markdown",
   "metadata": {},
   "source": [
    "### 1. Generate random distributions. use the function \n",
    "http://docs.scipy.org/doc/numpy/reference/generated/numpy.random.randn.html\n",
    "### to generate 100 2-dimensional random datapoints in a gaussian distribution \n",
    "\n",
    "call the array ReprRand\n"
   ]
  },
  {
   "cell_type": "code",
   "execution_count": 228,
   "metadata": {},
   "outputs": [
    {
     "name": "stdout",
     "output_type": "stream",
     "text": [
      "[[  7.80871413e+00  -2.99487678e+01   3.60375346e+01   2.80427881e+01\n",
      "   -1.99302545e+01   3.13898382e+01   4.43083470e+00  -2.22391515e+01\n",
      "    1.94709081e+01  -2.97397245e+01  -1.83184990e+01   1.69530384e+01\n",
      "    4.12334743e+01   4.61476265e+01   1.93432362e+01  -4.21026938e+01\n",
      "    3.94281192e+01  -2.15901939e+01   5.02904520e+01   3.72004071e+01\n",
      "    6.09673976e+01   5.32643128e+00   1.31314913e+01   5.49583026e+01\n",
      "   -2.50131670e+01   4.82443611e+01   6.03977878e+01  -2.61422829e+01\n",
      "    4.60332426e+01   4.91278405e+01   7.75815482e+01   1.05872205e+02\n",
      "    6.27819062e+01   3.50435064e+01  -2.76422024e+01   5.00902616e+01\n",
      "   -3.89148081e+01   2.80968314e+01  -1.24013114e+01  -5.81411846e+00\n",
      "    5.70758720e+01   5.73235233e+01  -2.50976117e+01   1.08421466e+01\n",
      "    1.18148768e+01   1.71138664e+01   4.62562649e+01   1.79192694e+01\n",
      "    5.85197925e+01   2.12589814e+01   2.12116536e+01   3.17501258e+01\n",
      "    4.24934823e+01  -2.31212541e+01   3.47255189e+01   5.27859972e+01\n",
      "    6.22592668e+00  -3.78256943e+01   3.79911410e+01   5.55417153e-02\n",
      "    4.60182433e+01   6.69352794e+01   1.90319033e+01  -7.66308048e+00\n",
      "   -4.49768206e+01  -2.14856070e+01  -3.79143055e+00   3.20167976e+00\n",
      "    2.62032752e+00   4.05934682e+01   1.99657210e+01   5.55531027e+01\n",
      "    6.77241050e+01   4.16491762e+01   9.12169478e+01   3.77561549e+00\n",
      "    1.86039980e+01   2.37521853e+01   4.04844497e+01  -9.99056474e+00\n",
      "    5.18911571e+00   6.60259421e+01  -2.12459616e+01   2.03593108e+01\n",
      "    1.20475911e+01   5.98924009e+01  -1.90370816e+01  -1.27923285e+01\n",
      "   -4.24134625e+01   3.80315187e+01   1.84873787e+01   1.71410899e+01\n",
      "    5.47872966e+01  -2.42918240e+00   5.99106828e+01   1.00782841e+01\n",
      "    5.43301746e+01  -1.98716611e+01   1.07672475e+01   4.38747538e+01]\n",
      " [  3.07140034e+01   2.05322545e+01   2.27641545e+01   4.68392232e+01\n",
      "   -4.59731068e+01   6.50515526e+01  -5.32151101e+00   2.81963920e+01\n",
      "    6.34560966e+01  -1.80700386e+01   1.11901912e+00   7.76758419e+00\n",
      "    3.88012249e+01   7.42131847e+01   6.53412750e+01   7.29898930e+01\n",
      "   -1.07434657e+01   4.29896813e+01  -1.63317295e+00   3.25809165e+01\n",
      "    2.80912017e+01   3.87904048e+01   1.13445577e+01  -6.55449026e+00\n",
      "    5.56211488e+01   6.09527593e+00   3.11580482e+01   2.61355532e+01\n",
      "    6.12977085e+01   2.00026363e+01   6.27799080e+00   2.47404811e+01\n",
      "    2.73966536e+01  -3.64106347e+01  -2.94937753e+01   2.21702897e+01\n",
      "    7.92569504e+00   1.20992705e+01  -5.73606189e+00  -1.92313025e+01\n",
      "   -9.52852609e+00   5.54780535e+01  -2.76128687e+01   3.76532637e+01\n",
      "    3.46595346e+01   1.53468044e+01  -2.40425633e+00   3.82780152e+01\n",
      "   -4.49985160e+01   4.71699006e+01   4.79595738e+01   1.53134578e+01\n",
      "    2.64773003e+01  -1.08539549e+01  -4.28702495e+00  -5.14095869e+00\n",
      "    1.92285746e+01   7.79801403e+00   3.63147590e+01   5.69406680e+01\n",
      "    1.78598082e+01  -7.69995052e+00  -6.30378292e+00   9.66518150e+01\n",
      "    5.74994259e+01  -1.31444598e+01   4.74680594e+01   5.89892200e+00\n",
      "    1.93633767e+01  -1.87288796e+00   1.30740913e+01   3.11105800e+00\n",
      "   -6.42310730e+00   4.39476619e+01   2.62161569e+01  -1.77249553e+00\n",
      "   -1.93929967e+00   5.44479576e+01   6.50043645e+01   4.36887818e+01\n",
      "    3.70683299e+01  -3.82744306e+01  -1.00674353e+01   3.18029253e+00\n",
      "    3.29476345e+01   3.81812786e+01  -1.83441888e+01   9.88162507e+00\n",
      "   -1.93344171e+00   2.12436048e+01   4.56284246e+01   2.39487623e+01\n",
      "    5.05676501e+01  -7.02236477e+00  -7.48872265e+01   1.62848075e+01\n",
      "    7.58079317e+01  -2.37332885e+01   4.60083979e+00   9.45186154e-02]]\n"
     ]
    }
   ],
   "source": [
    "np.random.seed(355)\n",
    "ReprRand = np.random.normal(16, 30, (2,100))\n",
    "print ReprRand"
   ]
  },
  {
   "cell_type": "markdown",
   "metadata": {},
   "source": [
    "#### if you did this correctly the shape of ReprRand will be (2, 100)\n"
   ]
  },
  {
   "cell_type": "code",
   "execution_count": 255,
   "metadata": {},
   "outputs": [
    {
     "data": {
      "text/plain": [
       "(2, 100)"
      ]
     },
     "execution_count": 255,
     "metadata": {},
     "output_type": "execute_result"
    }
   ],
   "source": [
    "# run this cell\n",
    "ReprRand.shape"
   ]
  },
  {
   "cell_type": "markdown",
   "metadata": {},
   "source": [
    "## 2. use the same function to generate 50 more random 2x100 numpy arrays and store them in ReprRandAll, all with different mean.\n",
    "\n",
    "np.random.randn creates a distribution with mean 0 and standard deviation 1 by default.\n",
    "\n",
    "To obtain a gaussian distribution with a mean different than 1 using np.random.randn you must add your new mean (it is explained in the dunction documentation for which I already gave you the link)\n",
    "\n",
    "If you want to change the standard deviation (sigma) as well you multiply the distribution by the new sigma.\n",
    "\n",
    "You can do it in a for loop. The first line of code I included generates an array of zeros that you can fill in with your new numbers. \n",
    "\n",
    "\n"
   ]
  },
  {
   "cell_type": "code",
   "execution_count": 275,
   "metadata": {},
   "outputs": [
    {
     "name": "stdout",
     "output_type": "stream",
     "text": [
      "[[[  32.80871413   -4.9487678    61.03753459 ...,    5.12833889\n",
      "     35.76724752   68.87475381]\n",
      "  [  55.71400342   45.5322545    47.76415451 ...,    1.26671147\n",
      "     29.60083979   25.09451862]]\n",
      "\n",
      " [[ -43.9357443     1.43295507   69.07813428 ...,   47.59971056\n",
      "     63.90681487   20.29894385]\n",
      "  [  19.9560679    -1.49589841   53.26196556 ...,   53.19809449\n",
      "     60.37297562   51.5773377 ]]\n",
      "\n",
      " [[ -21.2122167    67.71325904   12.07728448 ...,   23.83667328\n",
      "     76.65562958   67.32547417]\n",
      "  [  52.70136751   63.81463528   30.60453295 ...,   10.2859281\n",
      "     83.52015309   -5.36368311]]\n",
      "\n",
      " ..., \n",
      " [[  -4.74104003   51.6862063    13.53636259 ...,   21.32891506\n",
      "     43.82182391   12.54138525]\n",
      "  [  -5.90621019   12.99972025   12.95236105 ...,   16.40546742\n",
      "     66.51116852   31.6559563 ]]\n",
      "\n",
      " [[  66.62150461   88.98029386   43.91079756 ...,   19.19795807\n",
      "     56.48692089    3.90058392]\n",
      "  [ 117.88113352   44.73091662   31.5076983  ...,   52.27624333\n",
      "     -4.73959617   36.24010027]]\n",
      "\n",
      " [[  56.74857093   35.56996547   67.22502185 ...,   52.62275794\n",
      "     25.47842467   61.56777144]\n",
      "  [  53.00248784   44.33234351   74.7539534  ...,   14.19927323\n",
      "     31.0518935    33.09651993]]]\n"
     ]
    }
   ],
   "source": [
    "np.random.seed(355)\n",
    "ReprRandAll = np.random.normal(16, 30, (50,2,100))\n",
    "for i in range(50):\n",
    "    ReprRandAll = i - ReprRandAll\n",
    "print ReprRandAll"
   ]
  },
  {
   "cell_type": "code",
   "execution_count": 276,
   "metadata": {},
   "outputs": [
    {
     "data": {
      "text/plain": [
       "numpy.ndarray"
      ]
     },
     "execution_count": 276,
     "metadata": {},
     "output_type": "execute_result"
    }
   ],
   "source": [
    "# run this cell\n",
    "type(ReprRandAll)"
   ]
  },
  {
   "cell_type": "code",
   "execution_count": 277,
   "metadata": {},
   "outputs": [
    {
     "data": {
      "text/plain": [
       "(50, 2, 100)"
      ]
     },
     "execution_count": 277,
     "metadata": {},
     "output_type": "execute_result"
    }
   ],
   "source": [
    "ReprRandAll.shape"
   ]
  },
  {
   "cell_type": "markdown",
   "metadata": {},
   "source": [
    "## 3. now plot them: \n",
    "\n",
    "you can use the matplotlib library, and the function scatter(), but that would plot everything in the same color unless you ask it not to. For convenience, let's use the function plot() which by default plots lines, and tell it to plot points (in addition plot is actually more efficient, so if you have a large dataset you may want to consider using plot with points for it anyways)\n",
    "\n",
    "https://scipy-lectures.github.io/intro/matplotlib/matplotlib.html#scatter-plots\n",
    "\n",
    "http://matplotlib.org/users/pyplot_tutorial.html\n"
   ]
  },
  {
   "cell_type": "code",
   "execution_count": 280,
   "metadata": {},
   "outputs": [
    {
     "name": "stdout",
     "output_type": "stream",
     "text": [
      "[[[  32.80871413   -4.9487678    61.03753459 ...,    5.12833889\n",
      "     35.76724752   68.87475381]\n",
      "  [  55.71400342   45.5322545    47.76415451 ...,    1.26671147\n",
      "     29.60083979   25.09451862]]\n",
      "\n",
      " [[ -43.9357443     1.43295507   69.07813428 ...,   47.59971056\n",
      "     63.90681487   20.29894385]\n",
      "  [  19.9560679    -1.49589841   53.26196556 ...,   53.19809449\n",
      "     60.37297562   51.5773377 ]]\n",
      "\n",
      " [[ -21.2122167    67.71325904   12.07728448 ...,   23.83667328\n",
      "     76.65562958   67.32547417]\n",
      "  [  52.70136751   63.81463528   30.60453295 ...,   10.2859281\n",
      "     83.52015309   -5.36368311]]\n",
      "\n",
      " ..., \n",
      " [[  -4.74104003   51.6862063    13.53636259 ...,   21.32891506\n",
      "     43.82182391   12.54138525]\n",
      "  [  -5.90621019   12.99972025   12.95236105 ...,   16.40546742\n",
      "     66.51116852   31.6559563 ]]\n",
      "\n",
      " [[  66.62150461   88.98029386   43.91079756 ...,   19.19795807\n",
      "     56.48692089    3.90058392]\n",
      "  [ 117.88113352   44.73091662   31.5076983  ...,   52.27624333\n",
      "     -4.73959617   36.24010027]]\n",
      "\n",
      " [[  56.74857093   35.56996547   67.22502185 ...,   52.62275794\n",
      "     25.47842467   61.56777144]\n",
      "  [  53.00248784   44.33234351   74.7539534  ...,   14.19927323\n",
      "     31.0518935    33.09651993]]]\n"
     ]
    }
   ],
   "source": [
    "# code here...\n",
    "np.random.seed(355)\n",
    "ReprRandAll = np.random.normal(16, 30, (50,2,100))\n",
    "for i in range(50):\n",
    "    ReprRandAll = i - ReprRandAll\n",
    "print ReprRandAll"
   ]
  },
  {
   "cell_type": "code",
   "execution_count": 281,
   "metadata": {},
   "outputs": [
    {
     "name": "stdout",
     "output_type": "stream",
     "text": [
      "Populating the interactive namespace from numpy and matplotlib\n"
     ]
    },
    {
     "data": {
      "image/png": "[encoded data removed]",
      "text/plain": [
       "<matplotlib.figure.Figure at 0x7f06885bee50>"
      ]
     },
     "metadata": {},
     "output_type": "display_data"
    }
   ],
   "source": [
    "import pylab as pl\n",
    "%pylab inline\n",
    "# the last line of code makes the plot show up within the notebook. \n",
    "# Always include it so that your homework notebooks are rendered and we can see\n",
    "# what you wanted your results to be. \n",
    "X = ReprRandAll[0]\n",
    "Y = ReprRandAll[1]\n",
    "# code here\n",
    "pl.ylabel('some random numbers')\n",
    "pl.xlabel('some random numbers')\n",
    "pl.title('Scatterplot of Random Numbers')\n",
    "pl.scatter(X,Y, alpha=0.1)\n",
    "pl.xlim(-1.5, 1.5)\n",
    "pl.xticks(())\n",
    "pl.ylim(-1.5, 1.5)\n",
    "pl.yticks(())\n",
    "pl.axes([0.025, 0.025, 0.95, 0.95])\n",
    "pl.scatter(X, Y, s=75, alpha=.5)\n",
    "pl.show()\n"
   ]
  },
  {
   "cell_type": "markdown",
   "metadata": {},
   "source": [
    "Always add a caption to each of your homework figures. \n",
    "And remember to give your labels some names! \n",
    "This is a general rule. Without the caption or axis labels this portion of the HW will not get points. Make sure the font in the labels is large enough to be readable.  \n",
    "\n",
    "## Figure 1: \n",
    "\n",
    "Figure 1 shows a scatterplot of some random 5000 points of ReprRandAll array represented in blue dots, each with 2*100 in terms of dimension. The names of x-axis and y-axis are both 'some random numbers.' "
   ]
  },
  {
   "cell_type": "markdown",
   "metadata": {},
   "source": [
    "## Challenge\n",
    "\n",
    "It is easier to give the same mean and standard deviation to each dimension. Can you give two different values for the mean along the x- and the mean along the y- axis for each of the 50 distributions if you have not done so? If you are an experienced coder, can you do it in a single line?\n",
    "\n",
    "\n"
   ]
  },
  {
   "cell_type": "code",
   "execution_count": 298,
   "metadata": {},
   "outputs": [
    {
     "name": "stdout",
     "output_type": "stream",
     "text": [
      "Populating the interactive namespace from numpy and matplotlib\n"
     ]
    },
    {
     "data": {
      "image/png": "[encoded data removed]",
      "text/plain": [
       "<matplotlib.figure.Figure at 0x7f06885af0d0>"
      ]
     },
     "metadata": {},
     "output_type": "display_data"
    }
   ],
   "source": [
    "# plot here...\n",
    "import pylab as pl\n",
    "%pylab inline\n",
    "\n",
    "# I had struggled here since I have 50 * (2*100) sets. My old index \n",
    "# would only find the 1st and second sets...then I learned that I can index the x-axis\n",
    "# numbers and y-axis numbers by indexing them under indxing the i-th term.\n",
    "# Which then I believe now I would have different x means and y means. \n",
    "\n",
    "np.random.seed(355)\n",
    "ReprRandAll = np.random.normal(16, 30, (50,2,100))\n",
    "for i in range(50):\n",
    "    ReprRandAll1 = i - ReprRandAll[i][0]\n",
    "    for j in range(50):\n",
    "        ReprRandAll2 = j + ReprRandAll[i][1]\n",
    "\n",
    "X = ReprRandAll1\n",
    "Y = ReprRandAll2\n",
    "# code here\n",
    "pl.ylabel('some random numbers')\n",
    "pl.xlabel('some random numbers')\n",
    "pl.title('Scatterplot of Random Numbers')\n",
    "pl.scatter(X,Y, alpha=0.1)\n",
    "pl.xlim(-1.5, 1.5)\n",
    "pl.xticks(())\n",
    "pl.ylim(-1.5, 1.5)\n",
    "pl.yticks(())\n",
    "pl.axes([0.025, 0.025, 0.95, 0.95])\n",
    "pl.scatter(X, Y, s=75, alpha=.5)\n",
    "pl.show()"
   ]
  },
  {
   "cell_type": "code",
   "execution_count": 299,
   "metadata": {},
   "outputs": [],
   "source": [
    "## Figure 2: \n",
    "## Figure 2 shows a scatterplot of some random 5000 points of ReprRandAll array represented in blue dots, each with 2*100 in terms of dimension but slightly different from the previous arrays in terms of the average. The names of x-axis and y-axis are both 'some random numbers.' "
   ]
  },
  {
   "cell_type": "code",
   "execution_count": null,
   "metadata": {},
   "outputs": [],
   "source": []
  }
 ],
 "metadata": {
  "anaconda-cloud": {},
  "kernelspec": {
   "display_name": "PUI2016_Python2",
   "language": "python",
   "name": "pui2016_python2"
  },
  "language_info": {
   "codemirror_mode": {
    "name": "ipython",
    "version": 2
   },
   "file_extension": ".py",
   "mimetype": "text/x-python",
   "name": "python",
   "nbconvert_exporter": "python",
   "pygments_lexer": "ipython2",
   "version": "2.7.12"
  }
 },
 "nbformat": 4,
 "nbformat_minor": 1
}
