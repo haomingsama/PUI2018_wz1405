{
 "cells": [
  {
   "cell_type": "code",
   "execution_count": 1,
   "metadata": {},
   "outputs": [
    {
     "name": "stdout",
     "output_type": "stream",
     "text": [
      "Populating the interactive namespace from numpy and matplotlib\n"
     ]
    },
    {
     "name": "stderr",
     "output_type": "stream",
     "text": [
      "/usr/local/Anaconda3-5.0.0-Linux-x86_64/envs/PUI2016_Python2/lib/python2.7/site-packages/IPython/html.py:14: ShimWarning: The `IPython.html` package has been deprecated. You should import from `notebook` instead. `IPython.html.widgets` has moved to `ipywidgets`.\n",
      "  \"`IPython.html.widgets` has moved to `ipywidgets`.\", ShimWarning)\n",
      "/usr/local/Anaconda3-5.0.0-Linux-x86_64/envs/PUI2016_Python2/lib/python2.7/site-packages/IPython/core/magics/pylab.py:161: UserWarning: pylab import has clobbered these variables: ['plt']\n",
      "`%matplotlib` prevents importing * from pylab and numpy\n",
      "  \"\\n`%matplotlib` prevents importing * from pylab and numpy\"\n"
     ]
    }
   ],
   "source": [
    "import os\n",
    "import io\n",
    "import requests\n",
    "import pandas as pd\n",
    "import numpy as np\n",
    "import seaborn as sns\n",
    "import matplotlib.pyplot as plt\n",
    "import matplotlib as plt\n",
    "from pandas import Series, DataFrame\n",
    "import json\n",
    "from pandas.io.json import json_normalize\n",
    "import sys\n",
    "import scipy as sp\n",
    "\n",
    "puidata= os.getenv(\"PUIDATA\")\n",
    "if puidata is None:\n",
    "    os.environ[\"PUIDATA\"] = \"%s/PUIdata\"%os.getenv(\"HOME\")\n",
    "    \n",
    "try:\n",
    "    import urllib2 as urllib\n",
    "except ImportError:\n",
    "    import urllib.request as urllib\n",
    "\n",
    "%pylab inline"
   ]
  },
  {
   "cell_type": "markdown",
   "metadata": {},
   "source": [
    "Part 1: Hypothesis"
   ]
  },
  {
   "cell_type": "markdown",
   "metadata": {},
   "source": [
    "Hypothesis:\n",
    "Null Hypothesis (H0): The travel time of the new route is longer than or equal to the previous one. (Tnew >= Told)\n",
    "Alternate Hypotheses(H1): The travel time of the new route is shorter than the previous route.(Tnew < Told)"
   ]
  },
  {
   "cell_type": "markdown",
   "metadata": {},
   "source": [
    "I will use a significance level  $\\alpha=0.05$, which means i want the probability of getting a statistically significant result greater than 95%"
   ]
  },
  {
   "cell_type": "markdown",
   "metadata": {},
   "source": [
    "Part 2: The download of the data"
   ]
  },
  {
   "cell_type": "code",
   "execution_count": 9,
   "metadata": {},
   "outputs": [
    {
     "name": "stdout",
     "output_type": "stream",
     "text": [
      "  % Total    % Received % Xferd  Average Speed   Time    Time     Time  Current\n",
      "                                 Dload  Upload   Total   Spent    Left  Speed\n",
      "100  1179  100  1179    0     0   7676      0 --:--:-- --:--:-- --:--:--  7705\n"
     ]
    }
   ],
   "source": [
    "! curl -O https://raw.githubusercontent.com/fedhere/PUI2018_fb55/master/Lab4_fb55/times.txt "
   ]
  },
  {
   "cell_type": "code",
   "execution_count": 10,
   "metadata": {},
   "outputs": [],
   "source": [
    "# Ref: https://stackoverflow.com/questions/18126559/how-can-i-download-a-single-raw-file-from-a-private-github-repo-using-the-comman\n",
    "# Ref: https://stackoverflow.com/questions/21546739/load-data-from-txt-with-pandas"
   ]
  },
  {
   "cell_type": "code",
   "execution_count": 11,
   "metadata": {},
   "outputs": [
    {
     "name": "stdout",
     "output_type": "stream",
     "text": [
      "            0\n",
      "0   31.622239\n",
      "1   32.821376\n",
      "2   30.229101\n",
      "3   31.413766\n",
      "4   39.010550\n",
      "5   34.822079\n",
      "6   39.871884\n",
      "7   39.579946\n",
      "8   31.026587\n",
      "9   27.662461\n",
      "10  18.875288\n",
      "11  46.231373\n",
      "12  30.015226\n",
      "13  47.600410\n",
      "14  16.527267\n",
      "15  42.446233\n",
      "16  33.625274\n",
      "17  42.284626\n",
      "18  46.205207\n",
      "19  30.875174\n",
      "20  32.948003\n",
      "21  26.176915\n",
      "22  31.256996\n",
      "23  35.336446\n",
      "24  35.640725\n",
      "25  40.322972\n",
      "26  38.043486\n",
      "27  29.457979\n",
      "28  23.916364\n",
      "29  34.564035\n",
      "..        ...\n",
      "70  31.481028\n",
      "71  37.149151\n",
      "72  38.991504\n",
      "73  20.530594\n",
      "74  27.804477\n",
      "75  38.699333\n",
      "76  30.022314\n",
      "77  38.648842\n",
      "78  26.406689\n",
      "79  32.102250\n",
      "80  28.315328\n",
      "81  43.261959\n",
      "82  40.360941\n",
      "83  37.302526\n",
      "84  31.451102\n",
      "85  38.795995\n",
      "86  36.925534\n",
      "87  32.371679\n",
      "88  23.258356\n",
      "89  26.426133\n",
      "90  48.749877\n",
      "91  31.425124\n",
      "92  46.806793\n",
      "93  30.597486\n",
      "94  20.792632\n",
      "95  26.197852\n",
      "96  42.727410\n",
      "97  33.731470\n",
      "98  37.238591\n",
      "99  36.339841\n",
      "\n",
      "[100 rows x 1 columns]\n"
     ]
    },
    {
     "data": {
      "text/html": [
       "<div>\n",
       "<table border=\"1\" class=\"dataframe\">\n",
       "  <thead>\n",
       "    <tr style=\"text-align: right;\">\n",
       "      <th></th>\n",
       "      <th>0</th>\n",
       "    </tr>\n",
       "  </thead>\n",
       "  <tbody>\n",
       "    <tr>\n",
       "      <th>count</th>\n",
       "      <td>100.000000</td>\n",
       "    </tr>\n",
       "    <tr>\n",
       "      <th>mean</th>\n",
       "      <td>34.466162</td>\n",
       "    </tr>\n",
       "    <tr>\n",
       "      <th>std</th>\n",
       "      <td>7.137280</td>\n",
       "    </tr>\n",
       "    <tr>\n",
       "      <th>min</th>\n",
       "      <td>16.527267</td>\n",
       "    </tr>\n",
       "    <tr>\n",
       "      <th>25%</th>\n",
       "      <td>30.020542</td>\n",
       "    </tr>\n",
       "    <tr>\n",
       "      <th>50%</th>\n",
       "      <td>34.693057</td>\n",
       "    </tr>\n",
       "    <tr>\n",
       "      <th>75%</th>\n",
       "      <td>39.603456</td>\n",
       "    </tr>\n",
       "    <tr>\n",
       "      <th>max</th>\n",
       "      <td>48.749877</td>\n",
       "    </tr>\n",
       "  </tbody>\n",
       "</table>\n",
       "</div>"
      ],
      "text/plain": [
       "                0\n",
       "count  100.000000\n",
       "mean    34.466162\n",
       "std      7.137280\n",
       "min     16.527267\n",
       "25%     30.020542\n",
       "50%     34.693057\n",
       "75%     39.603456\n",
       "max     48.749877"
      ]
     },
     "execution_count": 11,
     "metadata": {},
     "output_type": "execute_result"
    }
   ],
   "source": [
    "TimesData = pd.read_csv('times.txt', sep=\" \", header=None)\n",
    "print TimesData\n",
    "TimesData.describe()"
   ]
  },
  {
   "cell_type": "markdown",
   "metadata": {},
   "source": [
    "Acquire the data as needed, measure the statistics for the distribution (the mean of the sample and sample size) and plug them in the formula. The number you get, the Z statistics is the number of standard deviations away from the mean of your sample. Have you set a significance level ahead of time as you should have? Then you can compare that probability threshold with the probability of getting a result at least as extreme as the one you got for your Z test. Remember that the Z test is returning multiples of the standard deviation of a Normal distribution, so 1sigma corresponds to 68% inclusion, 2sigma 95%, 3sigma 99.7%"
   ]
  },
  {
   "cell_type": "code",
   "execution_count": 12,
   "metadata": {},
   "outputs": [
    {
     "name": "stdout",
     "output_type": "stream",
     "text": [
      "0    34.466162\n",
      "dtype: float64\n",
      "100\n"
     ]
    }
   ],
   "source": [
    "TimeDataMean = TimesData.mean()\n",
    "TimeDataSize = len(TimesData)\n",
    "OriginalMean = 36\n",
    "OriginalSD = 6\n",
    "print TimeDataMean\n",
    "print TimeDataSize"
   ]
  },
  {
   "cell_type": "code",
   "execution_count": 13,
   "metadata": {},
   "outputs": [
    {
     "name": "stdout",
     "output_type": "stream",
     "text": [
      "0    2.556397\n",
      "dtype: float64\n"
     ]
    }
   ],
   "source": [
    "Difference = OriginalMean - TimeDataMean \n",
    "\n",
    "LowerFrac = OriginalSD / (np.sqrt(TimeDataSize))\n",
    "ZScore = Difference / (LowerFrac)\n",
    "print ZScore"
   ]
  },
  {
   "cell_type": "markdown",
   "metadata": {},
   "source": [
    "A Z-Score of 2.56 is greater than the 1.96 at 5%, thus rejects the null hypothesis and accepts the alternate hypothesis, which the bus trip time is shorter. "
   ]
  },
  {
   "cell_type": "code",
   "execution_count": null,
   "metadata": {},
   "outputs": [],
   "source": []
  }
 ],
 "metadata": {
  "kernelspec": {
   "display_name": "PUI2016_Python2",
   "language": "python",
   "name": "pui2016_python2"
  },
  "language_info": {
   "codemirror_mode": {
    "name": "ipython",
    "version": 2
   },
   "file_extension": ".py",
   "mimetype": "text/x-python",
   "name": "python",
   "nbconvert_exporter": "python",
   "pygments_lexer": "ipython2",
   "version": "2.7.12"
  }
 },
 "nbformat": 4,
 "nbformat_minor": 2
}
