{
 "cells": [
  {
   "cell_type": "code",
   "execution_count": 1,
   "metadata": {},
   "outputs": [
    {
     "name": "stderr",
     "output_type": "stream",
     "text": [
      "/usr/local/Anaconda3-5.0.0-Linux-x86_64/envs/PUI2016_Python2/lib/python2.7/site-packages/IPython/html.py:14: ShimWarning: The `IPython.html` package has been deprecated. You should import from `notebook` instead. `IPython.html.widgets` has moved to `ipywidgets`.\n",
      "  \"`IPython.html.widgets` has moved to `ipywidgets`.\", ShimWarning)\n"
     ]
    }
   ],
   "source": [
    "import os\n",
    "import io\n",
    "import requests\n",
    "import pandas as pd\n",
    "import numpy as np\n",
    "import seaborn as sns\n",
    "import matplotlib.pyplot as plt\n",
    "from pandas import Series, DataFrame\n",
    "from collections import OrderedDict\n",
    "from datetime import date\n",
    "\n",
    "puidata= os.getenv(\"PUIDATA\")\n",
    "if puidata is None:\n",
    "    os.environ[\"PUIDATA\"] = \"%s/PUIdata\"%os.getenv(\"HOME\")"
   ]
  },
  {
   "cell_type": "code",
   "execution_count": 2,
   "metadata": {},
   "outputs": [],
   "source": [
    "## Assignment 2: Read CSV files with pandas\n",
    "\n",
    "c = pd.read_csv(\"%s/NYCCAS_2009_CD_annavg.csv\"%os.getenv(\"PUIDATA\"))\n",
    "\n",
    "## Reference: https://stackoverflow.com/questions/32400867/pandas-read-csv-from-url\n",
    "## DataLocation: https://data.cityofnewyork.us/Environment/Clean-Air-Survey-Content-2009-/fmhd-mfkw"
   ]
  },
  {
   "cell_type": "code",
   "execution_count": 3,
   "metadata": {},
   "outputs": [
    {
     "name": "stdout",
     "output_type": "stream",
     "text": [
      "   indicator_id  geo_type_id  geo_entity_id  year_id  data_value  \\\n",
      "0           365           17            101       37        12.9   \n",
      "1           365           17            102       37        14.6   \n",
      "2           365           17            103       37        13.0   \n",
      "3           365           17            104       37        14.3   \n",
      "4           365           17            105       37        16.2   \n",
      "5           365           17            106       37        14.4   \n",
      "6           365           17            107       37        12.9   \n",
      "\n",
      "   unreliability_flag  \n",
      "0                   0  \n",
      "1                   0  \n",
      "2                   0  \n",
      "3                   0  \n",
      "4                   0  \n",
      "5                   0  \n",
      "6                   0  \n"
     ]
    }
   ],
   "source": [
    "##Display the top 7 rows of the DF\n",
    "First7 = c.head(7)\n",
    "print First7"
   ]
  },
  {
   "cell_type": "code",
   "execution_count": 4,
   "metadata": {},
   "outputs": [
    {
     "name": "stdout",
     "output_type": "stream",
     "text": [
      "   geo_entity_id  data_value\n",
      "0            101        12.9\n",
      "1            102        14.6\n",
      "2            103        13.0\n",
      "3            104        14.3\n",
      "4            105        16.2\n",
      "5            106        14.4\n",
      "6            107        12.9\n"
     ]
    }
   ],
   "source": [
    "## Reducted Dataframe\n",
    "First7Drop2 = First7.drop(['indicator_id', 'geo_type_id', 'year_id', 'unreliability_flag'], axis=1)\n",
    "print First7Drop2\n",
    "## Reference: https://stackoverflow.com/questions/47704798/python-pandas-drop-dataframe"
   ]
  },
  {
   "cell_type": "code",
   "execution_count": 5,
   "metadata": {},
   "outputs": [
    {
     "name": "stdout",
     "output_type": "stream",
     "text": [
      "Populating the interactive namespace from numpy and matplotlib\n"
     ]
    }
   ],
   "source": [
    "## Scatter Plot\n",
    "## Reference: http://www.scipy-lectures.org/intro/matplotlib/auto_examples/plot_scatter_ex.html\n",
    "\n",
    "%pylab inline"
   ]
  },
  {
   "cell_type": "code",
   "execution_count": 6,
   "metadata": {},
   "outputs": [
    {
     "name": "stderr",
     "output_type": "stream",
     "text": [
      "/usr/local/Anaconda3-5.0.0-Linux-x86_64/envs/PUI2016_Python2/lib/python2.7/site-packages/matplotlib/font_manager.py:1297: UserWarning: findfont: Font family [u'sans-serif'] not found. Falling back to DejaVu Sans\n",
      "  (prop.get_family(), self.defaultFamily[fontext]))\n"
     ]
    },
    {
     "data": {
      "image/png": "[encoded data removed]",
      "text/plain": [
       "<matplotlib.figure.Figure at 0x7fcb781222d0>"
      ]
     },
     "metadata": {},
     "output_type": "display_data"
    }
   ],
   "source": [
    "## Reference: http://jakevdp.github.io/mpl_tutorial/tutorial_pages/tut1.html\n",
    "## Reference: https://stackoverflow.com/questions/41825939/plot-pandas-dataframe-two-columns-from?rq=1\n",
    "## Problems encountered earlier: The error shows up saying that could not convert string to float\n",
    "## for my column name such as 'geo_entity_id'... Then with the reference website I am able to \n",
    "## plot that out.\n",
    "\n",
    "plt.axes([0.025, 0.025, 0.95, 0.95])\n",
    "\n",
    "x = First7Drop2['geo_entity_id']\n",
    "y = First7Drop2['data_value']\n",
    "\n",
    "\n",
    "pylab.xlabel('geo_entity_id')\n",
    "pylab.ylabel('data_value')\n",
    "pylab.title('Figure1: Quality for Different Sensor ID')\n",
    "plt.scatter(x,y)\n",
    "plt.show()"
   ]
  },
  {
   "cell_type": "markdown",
   "metadata": {},
   "source": [
    "Figure1: This figure shows the air quality data for each sensor in terms of geo_entity_id. The data is the Clean Air Survey from 2009. These are the first 7 entries among 708 entries in total. One takeaway point is that these 7 sensors' data only vary by small amount (between 13 and 17)."
   ]
  },
  {
   "cell_type": "code",
   "execution_count": 8,
   "metadata": {},
   "outputs": [],
   "source": [
    "### Am I plotting the top 7 entries or all entries? Below is the case for the whole .csv file."
   ]
  },
  {
   "cell_type": "code",
   "execution_count": 9,
   "metadata": {},
   "outputs": [
    {
     "data": {
      "image/png": "[encoded data removed]",
      "text/plain": [
       "<matplotlib.figure.Figure at 0x7fcb75c7c790>"
      ]
     },
     "metadata": {},
     "output_type": "display_data"
    }
   ],
   "source": [
    "plt.axes([0.025, 0.025, 0.95, 0.95])\n",
    "\n",
    "x = c['geo_entity_id']\n",
    "y = c['data_value']\n",
    "\n",
    "\n",
    "pylab.xlabel('geo_entity_id')\n",
    "pylab.ylabel('data_value')\n",
    "pylab.title('Figure2: Quality for Different Sensor ID')\n",
    "plt.scatter(x,y)\n",
    "plt.show()"
   ]
  },
  {
   "cell_type": "markdown",
   "metadata": {},
   "source": [
    "Figure2: This figure shows the air quality data for each sensor in terms of geo_entity_id. The data is the Clean Air Survey from 2009. These are all entries of 708 entries in total. One takeaway point is that these sensors' data vary significantly throughout different geographical entity ID. ID in 100s generally have higher air quality index than other IDs do. "
   ]
  },
  {
   "cell_type": "code",
   "execution_count": 12,
   "metadata": {},
   "outputs": [],
   "source": [
    "# Extra Credit Section: \n",
    "# Data: https://data.cityofnewyork.us/City-Government/New-York-City-Population-by-Borough-1950-2040/xywu-7bv9/data\n",
    "# API: https://data.cityofnewyork.us/resource/2yzn-sicd.json"
   ]
  },
  {
   "cell_type": "code",
   "execution_count": 13,
   "metadata": {},
   "outputs": [],
   "source": [
    "# I am using a differet data since the previous one does not contain any time or date. \n",
    "# This one is the Yellow Cab Trip Data of 2015.  "
   ]
  },
  {
   "cell_type": "code",
   "execution_count": 14,
   "metadata": {},
   "outputs": [],
   "source": [
    "#Extract the same dataset data using the NYC Open Data API (SODA API). \n",
    "#This will give you a link to a json file. \n",
    "#Read that file in and show the first 8 rows Doing this may make HW3 easier to do!\n",
    "#Repeat the steps above 1-7 with a CSV file that contains a date/time column and\n",
    "#a numerical value. If the dataset you chose has a date column plot each of the \n",
    "#axes you had chosen above against that column. \n",
    "#Remember the axis labels! Plot the numerical value against the date/time \n",
    "#(hint: make sure your tick labels are readable. \n",
    "#you can use they keyword rot in the df.plot() method, \n",
    "#as for example df.plot(....., rot=90) to rotate the tick labels by 90 degrees."
   ]
  },
  {
   "cell_type": "code",
   "execution_count": 15,
   "metadata": {},
   "outputs": [
    {
     "name": "stdout",
     "output_type": "stream",
     "text": [
      "            dropoff_datetime  dropoff_latitude  dropoff_longitude  extra  \\\n",
      "0    2015-08-25T18:42:01.000         40.764210         -73.954208    1.0   \n",
      "1    2015-08-17T18:13:14.000         40.723881         -74.005943    1.0   \n",
      "2    2015-08-31T19:13:49.000         40.772881         -73.873901    1.0   \n",
      "3    2015-08-25T06:54:23.000         40.710716         -74.016045    0.0   \n",
      "4    2015-08-09T18:47:54.000         40.744518         -73.975899    0.0   \n",
      "5    2015-08-18T08:51:58.000         40.721771         -73.984528    0.0   \n",
      "6    2015-08-05T09:50:49.000         40.766193         -73.956055    0.0   \n",
      "7    2015-08-08T12:40:45.000         40.732475         -73.991226    0.0   \n",
      "8    2015-08-01T15:18:38.000         40.751736         -73.976257    0.0   \n",
      "9    2015-08-28T19:04:29.000         40.709648         -73.829285    1.0   \n",
      "10   2015-08-11T21:44:05.000         40.775871         -73.953110    0.5   \n",
      "11   2015-08-27T20:04:15.000         40.756611         -73.942200    1.0   \n",
      "12   2015-08-11T08:21:35.000         40.755951         -73.971199    0.0   \n",
      "13   2015-08-24T23:13:58.000         40.699821         -73.929443    0.5   \n",
      "14   2015-08-26T07:56:31.000         40.750118         -73.991318    0.0   \n",
      "15   2015-08-03T09:04:47.000         40.762150         -73.972740    0.0   \n",
      "16   2015-08-18T20:39:39.000         40.779465         -73.987717    0.5   \n",
      "17   2015-08-23T20:56:56.000         40.713608         -73.961861    0.5   \n",
      "18   2015-08-22T10:57:41.000         40.736755         -73.991470    0.0   \n",
      "19   2015-08-03T02:11:17.000         40.793125         -74.008331    0.0   \n",
      "20   2015-08-01T09:40:44.000         40.719440         -74.012245    0.0   \n",
      "21   2015-08-14T10:38:35.000         40.665718         -73.806091    0.0   \n",
      "22   2015-08-20T23:44:22.000         40.715477         -74.008865    0.5   \n",
      "23   2015-08-23T02:10:47.000         40.724171         -74.001305    0.5   \n",
      "24   2015-08-28T06:51:11.000         40.776653         -73.955528    0.0   \n",
      "25   2015-08-07T17:21:04.000         40.772285         -73.949677    1.0   \n",
      "26   2015-08-07T01:31:19.000         40.746105         -73.982063    0.5   \n",
      "27   2015-08-24T08:06:40.000         40.749115         -73.982216    0.0   \n",
      "28   2015-08-26T21:29:00.000         40.775185         -73.949799    0.5   \n",
      "29   2015-08-02T18:18:54.000         40.777702         -73.978737    0.0   \n",
      "..                       ...               ...                ...    ...   \n",
      "970  2015-08-22T14:04:31.000         40.739094         -73.987221    0.0   \n",
      "971  2015-08-05T17:42:22.000         40.747433         -73.989922    1.0   \n",
      "972  2015-08-16T02:39:26.000         40.744465         -74.006577    0.5   \n",
      "973  2015-08-11T20:03:23.000         40.761639         -73.972290    1.0   \n",
      "974  2015-08-25T20:48:03.000         40.763836         -73.973366    0.5   \n",
      "975  2015-08-02T14:35:14.000         40.694145         -73.994576    0.0   \n",
      "976  2015-08-18T09:08:31.000         40.762077         -73.968208    0.0   \n",
      "977  2015-08-02T10:37:53.000         40.703594         -74.007263    0.0   \n",
      "978  2015-08-20T00:09:34.000         40.752361         -73.979332    0.5   \n",
      "979  2015-08-21T11:38:28.000         40.764786         -73.964172    0.0   \n",
      "980  2015-08-17T11:12:11.000         40.779305         -73.977219    0.0   \n",
      "981  2015-08-15T17:26:38.000         40.787033         -73.975204    0.0   \n",
      "982  2015-08-30T16:33:30.000         40.703159         -73.990730    0.0   \n",
      "983  2015-08-29T00:44:48.000         40.784683         -73.977737    0.5   \n",
      "984  2015-08-12T19:55:32.000         40.769600         -73.954758    1.0   \n",
      "985  2015-08-07T19:09:11.000         40.749165         -73.991623    1.0   \n",
      "986  2015-08-23T21:25:24.000         40.793739         -73.974358    0.5   \n",
      "987  2015-08-09T11:20:06.000         40.743034         -73.986107    0.0   \n",
      "988  2015-08-30T15:19:26.000         40.724083         -73.987946    0.0   \n",
      "989  2015-08-27T00:44:07.000         40.709251         -74.005379    0.5   \n",
      "990  2015-08-21T19:20:16.000         40.759899         -73.972343    1.0   \n",
      "991  2015-08-20T20:41:45.000         40.744007         -73.987816    0.5   \n",
      "992  2015-08-26T12:57:40.000         40.785465         -73.972275    0.0   \n",
      "993  2015-08-03T21:32:59.000         40.756199         -73.993019    0.5   \n",
      "994  2015-08-07T08:53:01.000         40.711231         -73.959007    0.0   \n",
      "995  2015-08-11T14:16:11.000         40.709099         -74.015480    0.0   \n",
      "996  2015-08-02T09:06:08.000         40.756401         -73.989502    0.0   \n",
      "997  2015-08-04T20:27:02.000         40.768108         -73.982239    0.5   \n",
      "998  2015-08-29T10:44:55.000         40.734283         -73.978310    0.0   \n",
      "999  2015-08-27T19:23:04.000         40.788811         -73.977242    1.0   \n",
      "\n",
      "     fare_amount  imp_surcharge  mta_tax  passenger_count  payment_type  \\\n",
      "0            9.0            0.3      0.5                1             1   \n",
      "1           11.5            0.3      0.5                4             2   \n",
      "2           35.0            0.3      0.5                1             2   \n",
      "3            5.0            0.3      0.5                3             2   \n",
      "4            5.0            0.3      0.5                1             1   \n",
      "5           15.0            0.3      0.5                2             2   \n",
      "6            9.5            0.3      0.5                1             1   \n",
      "7            6.0            0.3      0.5                1             2   \n",
      "8            8.0            0.3      0.5                1             2   \n",
      "9           22.0            0.3      0.5                2             2   \n",
      "10          19.5            0.3      0.5                2             2   \n",
      "11          21.0            0.3      0.5                3             2   \n",
      "12          13.0            0.3      0.5                2             1   \n",
      "13          45.0            0.3      0.5                1             2   \n",
      "14           4.0            0.3      0.5                5             1   \n",
      "15           8.5            0.3      0.5                1             1   \n",
      "16           8.5            0.3      0.5                1             2   \n",
      "17          12.0            0.3      0.5                1             1   \n",
      "18          11.0            0.3      0.5                1             2   \n",
      "19          68.0            0.3      0.0                1             2   \n",
      "20          13.5            0.3      0.5                1             1   \n",
      "21          10.5            0.3      0.5                1             1   \n",
      "22           7.0            0.3      0.5                1             1   \n",
      "23           6.0            0.3      0.5                1             1   \n",
      "24           3.5            0.3      0.5                1             2   \n",
      "25           5.5            0.3      0.5                1             1   \n",
      "26           6.5            0.3      0.5                1             1   \n",
      "27          15.0            0.3      0.5                1             1   \n",
      "28          13.5            0.3      0.5                1             1   \n",
      "29           5.5            0.3      0.5                1             2   \n",
      "..           ...            ...      ...              ...           ...   \n",
      "970          8.0            0.3      0.5                1             2   \n",
      "971          8.5            0.3      0.5                1             1   \n",
      "972          5.5            0.3      0.5                2             2   \n",
      "973         13.0            0.3      0.5                1             1   \n",
      "974          8.5            0.3      0.5                1             1   \n",
      "975         31.0            0.3      0.5                2             1   \n",
      "976          7.5            0.3      0.5                1             2   \n",
      "977          8.0            0.3      0.5                5             1   \n",
      "978          5.0            0.3      0.5                1             1   \n",
      "979          6.0            0.3      0.5                2             1   \n",
      "980          5.5            0.3      0.5                1             2   \n",
      "981          9.5            0.3      0.5                1             1   \n",
      "982         30.0            0.3      0.5                3             1   \n",
      "983         12.0            0.3      0.5                2             1   \n",
      "984         14.5            0.3      0.5                5             1   \n",
      "985          5.5            0.3      0.5                1             1   \n",
      "986          8.5            0.3      0.5                2             1   \n",
      "987          5.0            0.3      0.5                1             2   \n",
      "988         14.0            0.3      0.5                2             1   \n",
      "989         13.0            0.3      0.5                1             1   \n",
      "990         16.5            0.3      0.5                1             2   \n",
      "991         23.0            0.3      0.5                1             2   \n",
      "992         10.5            0.3      0.5                1             1   \n",
      "993         10.0            0.3      0.5                1             2   \n",
      "994         25.5            0.3      0.5                1             1   \n",
      "995         20.0            0.3      0.5                1             1   \n",
      "996         20.0            0.3      0.5                1             2   \n",
      "997          3.0            0.3      0.5                1             2   \n",
      "998          4.0            0.3      0.5                1             1   \n",
      "999          7.5            0.3      0.5                1             1   \n",
      "\n",
      "             pickup_datetime  pickup_latitude  pickup_longitude  ratecodeid  \\\n",
      "0    2015-08-25T18:30:44.000        40.751080        -73.973953           1   \n",
      "1    2015-08-17T17:59:10.000        40.758862        -73.984100           1   \n",
      "2    2015-08-31T18:43:17.000        40.723114        -74.004700           1   \n",
      "3    2015-08-25T06:49:53.000        40.703114        -74.014587           1   \n",
      "4    2015-08-09T18:44:12.000        40.754681        -73.969032           1   \n",
      "5    2015-08-18T08:39:18.000        40.767239        -73.954643           1   \n",
      "6    2015-08-05T09:37:20.000        40.761650        -73.968498           1   \n",
      "7    2015-08-08T12:33:57.000        40.738022        -74.000168           1   \n",
      "8    2015-08-01T15:09:15.000        40.735481        -73.982658           1   \n",
      "9    2015-08-28T18:39:15.000        40.646389        -73.776466           1   \n",
      "10   2015-08-11T21:21:06.000        40.740520        -74.005661           1   \n",
      "11   2015-08-27T19:35:46.000        40.755005        -73.991570           1   \n",
      "12   2015-08-11T08:01:18.000        40.773632        -73.982834           1   \n",
      "13   2015-08-24T22:41:21.000        40.648651        -73.783630           1   \n",
      "14   2015-08-26T07:54:22.000        40.755569        -73.986862           1   \n",
      "15   2015-08-03T08:54:17.000        40.747169        -73.983551           1   \n",
      "16   2015-08-18T20:30:24.000        40.760471        -73.979797           1   \n",
      "17   2015-08-23T20:43:21.000        40.720680        -73.994987           1   \n",
      "18   2015-08-22T10:44:36.000        40.762276        -73.989761           1   \n",
      "19   2015-08-03T01:47:27.000        40.731102        -73.991493           5   \n",
      "20   2015-08-01T09:30:33.000        40.714310        -73.981262           1   \n",
      "21   2015-08-14T10:32:03.000        40.644493        -73.782066           1   \n",
      "22   2015-08-20T23:36:43.000        40.721272        -73.993767           1   \n",
      "23   2015-08-23T02:04:58.000        40.733368        -74.006340           1   \n",
      "24   2015-08-28T06:50:03.000        40.771225        -73.959457           1   \n",
      "25   2015-08-07T17:16:15.000        40.779430        -73.953476           1   \n",
      "26   2015-08-07T01:26:20.000        40.735668        -73.998085           1   \n",
      "27   2015-08-24T07:48:32.000        40.790630        -73.976425           1   \n",
      "28   2015-08-26T21:16:00.000        40.725258        -73.986778           1   \n",
      "29   2015-08-02T18:12:54.000        40.777180        -73.983040           1   \n",
      "..                       ...              ...               ...         ...   \n",
      "970  2015-08-22T13:54:52.000        40.752563        -73.977318           1   \n",
      "971  2015-08-05T17:30:57.000        40.736736        -73.988983           1   \n",
      "972  2015-08-16T02:34:18.000        40.740650        -74.005234           1   \n",
      "973  2015-08-11T19:45:47.000        40.746941        -74.001961           1   \n",
      "974  2015-08-25T20:39:26.000        40.763836        -73.973366           1   \n",
      "975  2015-08-02T14:09:49.000        40.773647        -73.870819           1   \n",
      "976  2015-08-18T08:58:47.000        40.765301        -73.954834           1   \n",
      "977  2015-08-02T10:31:19.000        40.717827        -74.014259           1   \n",
      "978  2015-08-20T00:06:34.000        40.741909        -73.989708           1   \n",
      "979  2015-08-21T11:32:45.000        40.757450        -73.975716           1   \n",
      "980  2015-08-17T11:07:40.000        40.786770        -73.968391           1   \n",
      "981  2015-08-15T17:16:48.000        40.768223        -73.955757           1   \n",
      "982  2015-08-30T15:48:33.000        40.739414        -74.008949           1   \n",
      "983  2015-08-29T00:32:20.000        40.756557        -73.975060           1   \n",
      "984  2015-08-12T19:40:32.000        40.729061        -73.990242           1   \n",
      "985  2015-08-07T19:04:08.000        40.736835        -73.997231           1   \n",
      "986  2015-08-23T21:16:30.000        40.779751        -73.955849           1   \n",
      "987  2015-08-09T11:16:34.000        40.738228        -73.996033           1   \n",
      "988  2015-08-30T15:04:54.000        40.711441        -74.010132           1   \n",
      "989  2015-08-27T00:29:01.000        40.744530        -73.999008           1   \n",
      "990  2015-08-21T18:57:51.000        40.717117        -73.991348           1   \n",
      "991  2015-08-20T20:16:57.000        40.800842        -73.968094           1   \n",
      "992  2015-08-26T12:45:12.000        40.763165        -73.969696           1   \n",
      "993  2015-08-03T21:20:20.000        40.757702        -73.969299           1   \n",
      "994  2015-08-07T08:23:01.000        40.773739        -73.870827           1   \n",
      "995  2015-08-11T14:00:20.000        40.756241        -73.970428           1   \n",
      "996  2015-08-02T08:43:34.000        40.742523        -73.911316           1   \n",
      "997  2015-08-04T20:26:25.000        40.771507        -73.982063           1   \n",
      "998  2015-08-29T10:42:15.000        40.728119        -73.984886           1   \n",
      "999  2015-08-27T19:15:23.000        40.776402        -73.962135           1   \n",
      "\n",
      "    store_and_fwd_flag  tip_amount  tolls_amount  total_amount  trip_distance  \\\n",
      "0                    N        2.16          0.00         12.96           1.68   \n",
      "1                    N        0.00          0.00         13.30           2.70   \n",
      "2                    N        0.00          5.54         42.34          11.27   \n",
      "3                    N        0.00          0.00          5.80           0.76   \n",
      "4                    N        1.16          0.00          6.96           0.80   \n",
      "5                    N        0.00          0.00         15.80           4.42   \n",
      "6                    N        2.00          0.00         12.30           1.00   \n",
      "7                    N        0.00          0.00          6.80           0.70   \n",
      "8                    N        0.00          0.00          8.80           1.30   \n",
      "9                    N        0.00          0.00         23.80           6.70   \n",
      "10                   N        0.00          0.00         20.80           4.85   \n",
      "11                   N        0.00          0.00         22.80           4.70   \n",
      "12                   N        3.45          0.00         17.25           1.78   \n",
      "13                   N        0.00          0.00         46.30          16.58   \n",
      "14                   N        1.20          0.00          6.00           0.44   \n",
      "15                   N        1.85          0.00         11.15           1.10   \n",
      "16                   N        0.00          0.00          9.80           1.70   \n",
      "17                   N        2.66          0.00         15.96           2.45   \n",
      "18                   N        0.00          0.00         11.80           2.30   \n",
      "19                   N        0.00          9.75         78.05           7.40   \n",
      "20                   N        2.86          0.00         17.16           3.70   \n",
      "21                   N        2.26          0.00         13.56           3.10   \n",
      "22                   N        2.00          0.00         10.30           1.20   \n",
      "23                   N        1.46          0.00          8.76           1.12   \n",
      "24                   N        0.00          0.00          4.30           0.48   \n",
      "25                   N        1.45          0.00          8.75           0.80   \n",
      "26                   N        0.00          0.00          7.80           1.47   \n",
      "27                   N        2.00          0.00         17.80           3.70   \n",
      "28                   N        2.50          0.00         17.30           4.00   \n",
      "29                   N        0.00          0.00          6.30           0.47   \n",
      "..                 ...         ...           ...           ...            ...   \n",
      "970                  N        0.00          0.00          8.80           1.40   \n",
      "971                  N        3.05          0.00         13.35           1.00   \n",
      "972                  N        0.00          0.00          6.80           0.80   \n",
      "973                  N        2.96          0.00         17.76           2.48   \n",
      "974                  N        1.20          0.00         11.00           1.76   \n",
      "975                  N        6.36          0.00         38.16          10.67   \n",
      "976                  N        0.00          0.00          8.30           1.00   \n",
      "977                  N        1.76          0.00         10.56           1.78   \n",
      "978                  N        1.26          0.00          7.56           1.06   \n",
      "979                  N        1.70          0.00          8.50           1.05   \n",
      "980                  N        0.00          0.00          6.30           0.85   \n",
      "981                  N        2.05          0.00         12.35           2.10   \n",
      "982                  N        6.15          0.00         36.95           6.90   \n",
      "983                  N        2.66          0.00         15.96           2.84   \n",
      "984                  N        3.26          0.00         19.56           4.03   \n",
      "985                  N        1.70          0.00          9.00           1.00   \n",
      "986                  N        1.20          0.00         11.00           1.80   \n",
      "987                  N        0.00          0.00          5.80           0.80   \n",
      "988                  N        3.70          0.00         18.50           3.20   \n",
      "989                  N        1.00          0.00         15.30           3.34   \n",
      "990                  N        0.00          0.00         18.30           3.40   \n",
      "991                  N        0.00          0.00         24.30           5.78   \n",
      "992                  N        2.25          0.00         13.55           2.20   \n",
      "993                  N        0.00          0.00         11.30           1.88   \n",
      "994                  N        5.26          0.00         31.56           7.37   \n",
      "995                  N        4.16          0.00         24.96           6.26   \n",
      "996                  N        0.00          0.00         20.80           5.14   \n",
      "997                  N        0.00          0.00          4.30           0.20   \n",
      "998                  N        1.00          0.00          5.80           0.60   \n",
      "999                  N        2.75          0.00         12.05           1.40   \n",
      "\n",
      "     vendor_id  \n",
      "0            2  \n",
      "1            1  \n",
      "2            2  \n",
      "3            2  \n",
      "4            2  \n",
      "5            2  \n",
      "6            1  \n",
      "7            1  \n",
      "8            1  \n",
      "9            1  \n",
      "10           2  \n",
      "11           2  \n",
      "12           2  \n",
      "13           2  \n",
      "14           2  \n",
      "15           1  \n",
      "16           1  \n",
      "17           2  \n",
      "18           1  \n",
      "19           1  \n",
      "20           1  \n",
      "21           1  \n",
      "22           1  \n",
      "23           2  \n",
      "24           2  \n",
      "25           1  \n",
      "26           2  \n",
      "27           1  \n",
      "28           1  \n",
      "29           2  \n",
      "..         ...  \n",
      "970          1  \n",
      "971          1  \n",
      "972          1  \n",
      "973          2  \n",
      "974          2  \n",
      "975          2  \n",
      "976          1  \n",
      "977          2  \n",
      "978          2  \n",
      "979          2  \n",
      "980          2  \n",
      "981          1  \n",
      "982          1  \n",
      "983          2  \n",
      "984          2  \n",
      "985          1  \n",
      "986          2  \n",
      "987          1  \n",
      "988          1  \n",
      "989          2  \n",
      "990          1  \n",
      "991          2  \n",
      "992          1  \n",
      "993          2  \n",
      "994          2  \n",
      "995          2  \n",
      "996          2  \n",
      "997          1  \n",
      "998          1  \n",
      "999          1  \n",
      "\n",
      "[1000 rows x 19 columns]\n"
     ]
    }
   ],
   "source": [
    "url = \"https://data.cityofnewyork.us/resource/2yzn-sicd.json\"\n",
    "c1 = pd.read_json(url)\n",
    "print c1\n",
    "# Looks like there are 6 rows of data. The first row is total and the rest rows are for five boroughs."
   ]
  },
  {
   "cell_type": "code",
   "execution_count": 16,
   "metadata": {},
   "outputs": [
    {
     "name": "stdout",
     "output_type": "stream",
     "text": [
      "          dropoff_datetime  dropoff_latitude  dropoff_longitude  extra  \\\n",
      "0  2015-08-25T18:42:01.000         40.764210         -73.954208    1.0   \n",
      "1  2015-08-17T18:13:14.000         40.723881         -74.005943    1.0   \n",
      "2  2015-08-31T19:13:49.000         40.772881         -73.873901    1.0   \n",
      "3  2015-08-25T06:54:23.000         40.710716         -74.016045    0.0   \n",
      "4  2015-08-09T18:47:54.000         40.744518         -73.975899    0.0   \n",
      "5  2015-08-18T08:51:58.000         40.721771         -73.984528    0.0   \n",
      "6  2015-08-05T09:50:49.000         40.766193         -73.956055    0.0   \n",
      "7  2015-08-08T12:40:45.000         40.732475         -73.991226    0.0   \n",
      "\n",
      "   fare_amount  imp_surcharge  mta_tax  passenger_count  payment_type  \\\n",
      "0          9.0            0.3      0.5                1             1   \n",
      "1         11.5            0.3      0.5                4             2   \n",
      "2         35.0            0.3      0.5                1             2   \n",
      "3          5.0            0.3      0.5                3             2   \n",
      "4          5.0            0.3      0.5                1             1   \n",
      "5         15.0            0.3      0.5                2             2   \n",
      "6          9.5            0.3      0.5                1             1   \n",
      "7          6.0            0.3      0.5                1             2   \n",
      "\n",
      "           pickup_datetime  pickup_latitude  pickup_longitude  ratecodeid  \\\n",
      "0  2015-08-25T18:30:44.000        40.751080        -73.973953           1   \n",
      "1  2015-08-17T17:59:10.000        40.758862        -73.984100           1   \n",
      "2  2015-08-31T18:43:17.000        40.723114        -74.004700           1   \n",
      "3  2015-08-25T06:49:53.000        40.703114        -74.014587           1   \n",
      "4  2015-08-09T18:44:12.000        40.754681        -73.969032           1   \n",
      "5  2015-08-18T08:39:18.000        40.767239        -73.954643           1   \n",
      "6  2015-08-05T09:37:20.000        40.761650        -73.968498           1   \n",
      "7  2015-08-08T12:33:57.000        40.738022        -74.000168           1   \n",
      "\n",
      "  store_and_fwd_flag  tip_amount  tolls_amount  total_amount  trip_distance  \\\n",
      "0                  N        2.16          0.00         12.96           1.68   \n",
      "1                  N        0.00          0.00         13.30           2.70   \n",
      "2                  N        0.00          5.54         42.34          11.27   \n",
      "3                  N        0.00          0.00          5.80           0.76   \n",
      "4                  N        1.16          0.00          6.96           0.80   \n",
      "5                  N        0.00          0.00         15.80           4.42   \n",
      "6                  N        2.00          0.00         12.30           1.00   \n",
      "7                  N        0.00          0.00          6.80           0.70   \n",
      "\n",
      "   vendor_id  \n",
      "0          2  \n",
      "1          1  \n",
      "2          2  \n",
      "3          2  \n",
      "4          2  \n",
      "5          2  \n",
      "6          1  \n",
      "7          1  \n"
     ]
    }
   ],
   "source": [
    "SecondFirst7 = c1.head(8)\n",
    "print SecondFirst7"
   ]
  },
  {
   "cell_type": "code",
   "execution_count": 17,
   "metadata": {},
   "outputs": [
    {
     "name": "stdout",
     "output_type": "stream",
     "text": [
      "           pickup_datetime  fare_amount\n",
      "0  2015-08-25T18:30:44.000          9.0\n",
      "1  2015-08-17T17:59:10.000         11.5\n",
      "2  2015-08-31T18:43:17.000         35.0\n",
      "3  2015-08-25T06:49:53.000          5.0\n",
      "4  2015-08-09T18:44:12.000          5.0\n",
      "5  2015-08-18T08:39:18.000         15.0\n",
      "6  2015-08-05T09:37:20.000          9.5\n",
      "7  2015-08-08T12:33:57.000          6.0\n"
     ]
    }
   ],
   "source": [
    "SecondFirst7Drop2 = SecondFirst7.loc[:, ['pickup_datetime','fare_amount']]\n",
    "print SecondFirst7Drop2\n",
    "# code reference: https://stackoverflow.com/questions/45846189/how-to-delete-all-columns-in-dataframe-except-certain-ones/45846274"
   ]
  },
  {
   "cell_type": "code",
   "execution_count": 18,
   "metadata": {},
   "outputs": [
    {
     "ename": "ValueError",
     "evalue": "First argument must be a sequence",
     "output_type": "error",
     "traceback": [
      "\u001b[0;31m\u001b[0m",
      "\u001b[0;31mValueError\u001b[0mTraceback (most recent call last)",
      "\u001b[0;32m<ipython-input-18-fd5f6c25f48c>\u001b[0m in \u001b[0;36m<module>\u001b[0;34m()\u001b[0m\n\u001b[1;32m      8\u001b[0m \u001b[0mpylab\u001b[0m\u001b[0;34m.\u001b[0m\u001b[0mylabel\u001b[0m\u001b[0;34m(\u001b[0m\u001b[0;34m'data_value'\u001b[0m\u001b[0;34m)\u001b[0m\u001b[0;34m\u001b[0m\u001b[0m\n\u001b[1;32m      9\u001b[0m \u001b[0mpylab\u001b[0m\u001b[0;34m.\u001b[0m\u001b[0mtitle\u001b[0m\u001b[0;34m(\u001b[0m\u001b[0;34m'Figure2: Quality for Different Sensor ID'\u001b[0m\u001b[0;34m)\u001b[0m\u001b[0;34m\u001b[0m\u001b[0m\n\u001b[0;32m---> 10\u001b[0;31m \u001b[0mplt\u001b[0m\u001b[0;34m.\u001b[0m\u001b[0mscatter\u001b[0m\u001b[0;34m(\u001b[0m\u001b[0mx\u001b[0m\u001b[0;34m,\u001b[0m\u001b[0my\u001b[0m\u001b[0;34m)\u001b[0m\u001b[0;34m\u001b[0m\u001b[0m\n\u001b[0m\u001b[1;32m     11\u001b[0m \u001b[0mc1\u001b[0m\u001b[0;34m[\u001b[0m\u001b[0;34m\"pickup_datetime\"\u001b[0m\u001b[0;34m]\u001b[0m \u001b[0;34m=\u001b[0m \u001b[0mc1\u001b[0m\u001b[0;34m[\u001b[0m\u001b[0;34m'pickup_datetime'\u001b[0m\u001b[0;34m]\u001b[0m\u001b[0;34m.\u001b[0m\u001b[0mapply\u001b[0m\u001b[0;34m(\u001b[0m\u001b[0;32mlambda\u001b[0m \u001b[0mx\u001b[0m\u001b[0;34m:\u001b[0m \u001b[0mpd\u001b[0m\u001b[0;34m.\u001b[0m\u001b[0mTimestamp\u001b[0m\u001b[0;34m(\u001b[0m\u001b[0mx\u001b[0m\u001b[0;34m)\u001b[0m\u001b[0;34m)\u001b[0m\u001b[0;34m\u001b[0m\u001b[0m\n\u001b[1;32m     12\u001b[0m \u001b[0mplt\u001b[0m\u001b[0;34m.\u001b[0m\u001b[0mshow\u001b[0m\u001b[0;34m(\u001b[0m\u001b[0;34m)\u001b[0m\u001b[0;34m\u001b[0m\u001b[0m\n",
      "\u001b[0;32m/usr/local/Anaconda3-5.0.0-Linux-x86_64/envs/PUI2016_Python2/lib/python2.7/site-packages/matplotlib/pyplot.pyc\u001b[0m in \u001b[0;36mscatter\u001b[0;34m(x, y, s, c, marker, cmap, norm, vmin, vmax, alpha, linewidths, verts, edgecolors, hold, data, **kwargs)\u001b[0m\n\u001b[1;32m   3433\u001b[0m                          \u001b[0mvmin\u001b[0m\u001b[0;34m=\u001b[0m\u001b[0mvmin\u001b[0m\u001b[0;34m,\u001b[0m \u001b[0mvmax\u001b[0m\u001b[0;34m=\u001b[0m\u001b[0mvmax\u001b[0m\u001b[0;34m,\u001b[0m \u001b[0malpha\u001b[0m\u001b[0;34m=\u001b[0m\u001b[0malpha\u001b[0m\u001b[0;34m,\u001b[0m\u001b[0;34m\u001b[0m\u001b[0m\n\u001b[1;32m   3434\u001b[0m                          \u001b[0mlinewidths\u001b[0m\u001b[0;34m=\u001b[0m\u001b[0mlinewidths\u001b[0m\u001b[0;34m,\u001b[0m \u001b[0mverts\u001b[0m\u001b[0;34m=\u001b[0m\u001b[0mverts\u001b[0m\u001b[0;34m,\u001b[0m\u001b[0;34m\u001b[0m\u001b[0m\n\u001b[0;32m-> 3435\u001b[0;31m                          edgecolors=edgecolors, data=data, **kwargs)\n\u001b[0m\u001b[1;32m   3436\u001b[0m     \u001b[0;32mfinally\u001b[0m\u001b[0;34m:\u001b[0m\u001b[0;34m\u001b[0m\u001b[0m\n\u001b[1;32m   3437\u001b[0m         \u001b[0max\u001b[0m\u001b[0;34m.\u001b[0m\u001b[0m_hold\u001b[0m \u001b[0;34m=\u001b[0m \u001b[0mwashold\u001b[0m\u001b[0;34m\u001b[0m\u001b[0m\n",
      "\u001b[0;32m/usr/local/Anaconda3-5.0.0-Linux-x86_64/envs/PUI2016_Python2/lib/python2.7/site-packages/matplotlib/__init__.pyc\u001b[0m in \u001b[0;36minner\u001b[0;34m(ax, *args, **kwargs)\u001b[0m\n\u001b[1;32m   1890\u001b[0m                     warnings.warn(msg % (label_namer, func.__name__),\n\u001b[1;32m   1891\u001b[0m                                   RuntimeWarning, stacklevel=2)\n\u001b[0;32m-> 1892\u001b[0;31m             \u001b[0;32mreturn\u001b[0m \u001b[0mfunc\u001b[0m\u001b[0;34m(\u001b[0m\u001b[0max\u001b[0m\u001b[0;34m,\u001b[0m \u001b[0;34m*\u001b[0m\u001b[0margs\u001b[0m\u001b[0;34m,\u001b[0m \u001b[0;34m**\u001b[0m\u001b[0mkwargs\u001b[0m\u001b[0;34m)\u001b[0m\u001b[0;34m\u001b[0m\u001b[0m\n\u001b[0m\u001b[1;32m   1893\u001b[0m         \u001b[0mpre_doc\u001b[0m \u001b[0;34m=\u001b[0m \u001b[0minner\u001b[0m\u001b[0;34m.\u001b[0m\u001b[0m__doc__\u001b[0m\u001b[0;34m\u001b[0m\u001b[0m\n\u001b[1;32m   1894\u001b[0m         \u001b[0;32mif\u001b[0m \u001b[0mpre_doc\u001b[0m \u001b[0;32mis\u001b[0m \u001b[0mNone\u001b[0m\u001b[0;34m:\u001b[0m\u001b[0;34m\u001b[0m\u001b[0m\n",
      "\u001b[0;32m/usr/local/Anaconda3-5.0.0-Linux-x86_64/envs/PUI2016_Python2/lib/python2.7/site-packages/matplotlib/axes/_axes.pyc\u001b[0m in \u001b[0;36mscatter\u001b[0;34m(self, x, y, s, c, marker, cmap, norm, vmin, vmax, alpha, linewidths, verts, edgecolors, **kwargs)\u001b[0m\n\u001b[1;32m   3993\u001b[0m         \u001b[0mmaskargs\u001b[0m \u001b[0;34m=\u001b[0m \u001b[0mx\u001b[0m\u001b[0;34m,\u001b[0m \u001b[0my\u001b[0m\u001b[0;34m,\u001b[0m \u001b[0ms\u001b[0m\u001b[0;34m,\u001b[0m \u001b[0mc\u001b[0m\u001b[0;34m,\u001b[0m \u001b[0mcolors\u001b[0m\u001b[0;34m,\u001b[0m \u001b[0medgecolors\u001b[0m\u001b[0;34m,\u001b[0m \u001b[0mlinewidths\u001b[0m\u001b[0;34m\u001b[0m\u001b[0m\n\u001b[1;32m   3994\u001b[0m         \u001b[0mx\u001b[0m\u001b[0;34m,\u001b[0m \u001b[0my\u001b[0m\u001b[0;34m,\u001b[0m \u001b[0ms\u001b[0m\u001b[0;34m,\u001b[0m \u001b[0mc\u001b[0m\u001b[0;34m,\u001b[0m \u001b[0mcolors\u001b[0m\u001b[0;34m,\u001b[0m \u001b[0medgecolors\u001b[0m\u001b[0;34m,\u001b[0m \u001b[0mlinewidths\u001b[0m \u001b[0;34m=\u001b[0m\u001b[0;31m\\\u001b[0m\u001b[0;34m\u001b[0m\u001b[0m\n\u001b[0;32m-> 3995\u001b[0;31m             \u001b[0mcbook\u001b[0m\u001b[0;34m.\u001b[0m\u001b[0mdelete_masked_points\u001b[0m\u001b[0;34m(\u001b[0m\u001b[0;34m*\u001b[0m\u001b[0mmaskargs\u001b[0m\u001b[0;34m)\u001b[0m\u001b[0;34m\u001b[0m\u001b[0m\n\u001b[0m\u001b[1;32m   3996\u001b[0m \u001b[0;34m\u001b[0m\u001b[0m\n\u001b[1;32m   3997\u001b[0m         \u001b[0mscales\u001b[0m \u001b[0;34m=\u001b[0m \u001b[0ms\u001b[0m   \u001b[0;31m# Renamed for readability below.\u001b[0m\u001b[0;34m\u001b[0m\u001b[0m\n",
      "\u001b[0;32m/usr/local/Anaconda3-5.0.0-Linux-x86_64/envs/PUI2016_Python2/lib/python2.7/site-packages/matplotlib/cbook.pyc\u001b[0m in \u001b[0;36mdelete_masked_points\u001b[0;34m(*args)\u001b[0m\n\u001b[1;32m   1834\u001b[0m         \u001b[0;32mreturn\u001b[0m \u001b[0;34m(\u001b[0m\u001b[0;34m)\u001b[0m\u001b[0;34m\u001b[0m\u001b[0m\n\u001b[1;32m   1835\u001b[0m     \u001b[0;32mif\u001b[0m \u001b[0;34m(\u001b[0m\u001b[0mis_string_like\u001b[0m\u001b[0;34m(\u001b[0m\u001b[0margs\u001b[0m\u001b[0;34m[\u001b[0m\u001b[0;36m0\u001b[0m\u001b[0;34m]\u001b[0m\u001b[0;34m)\u001b[0m \u001b[0;32mor\u001b[0m \u001b[0;32mnot\u001b[0m \u001b[0miterable\u001b[0m\u001b[0;34m(\u001b[0m\u001b[0margs\u001b[0m\u001b[0;34m[\u001b[0m\u001b[0;36m0\u001b[0m\u001b[0;34m]\u001b[0m\u001b[0;34m)\u001b[0m\u001b[0;34m)\u001b[0m\u001b[0;34m:\u001b[0m\u001b[0;34m\u001b[0m\u001b[0m\n\u001b[0;32m-> 1836\u001b[0;31m         \u001b[0;32mraise\u001b[0m \u001b[0mValueError\u001b[0m\u001b[0;34m(\u001b[0m\u001b[0;34m\"First argument must be a sequence\"\u001b[0m\u001b[0;34m)\u001b[0m\u001b[0;34m\u001b[0m\u001b[0m\n\u001b[0m\u001b[1;32m   1837\u001b[0m     \u001b[0mnrecs\u001b[0m \u001b[0;34m=\u001b[0m \u001b[0mlen\u001b[0m\u001b[0;34m(\u001b[0m\u001b[0margs\u001b[0m\u001b[0;34m[\u001b[0m\u001b[0;36m0\u001b[0m\u001b[0;34m]\u001b[0m\u001b[0;34m)\u001b[0m\u001b[0;34m\u001b[0m\u001b[0m\n\u001b[1;32m   1838\u001b[0m     \u001b[0mmargs\u001b[0m \u001b[0;34m=\u001b[0m \u001b[0;34m[\u001b[0m\u001b[0;34m]\u001b[0m\u001b[0;34m\u001b[0m\u001b[0m\n",
      "\u001b[0;31mValueError\u001b[0m: First argument must be a sequence"
     ]
    },
    {
     "data": {
      "image/png": "[encoded data removed]",
      "text/plain": [
       "<matplotlib.figure.Figure at 0x7fcbc834a9d0>"
      ]
     },
     "metadata": {},
     "output_type": "display_data"
    }
   ],
   "source": [
    "plt.axes([0.025, 0.025, 0.95, 0.95])\n",
    "\n",
    "x = c1['pickup_datetime']\n",
    "y = c1['fare_amount']\n",
    "\n",
    "\n",
    "pylab.xlabel('geo_entity_id')\n",
    "pylab.ylabel('data_value')\n",
    "pylab.title('Figure2: Quality for Different Sensor ID')\n",
    "plt.scatter(x,y)\n",
    "c1[\"pickup_datetime\"] = c1['pickup_datetime'].apply(lambda x: pd.Timestamp(x))\n",
    "plt.show()\n",
    "\n",
    "##Now I need to sort"
   ]
  },
  {
   "cell_type": "code",
   "execution_count": null,
   "metadata": {},
   "outputs": [],
   "source": []
  }
 ],
 "metadata": {
  "kernelspec": {
   "display_name": "PUI2016_Python2",
   "language": "python",
   "name": "pui2016_python2"
  },
  "language_info": {
   "codemirror_mode": {
    "name": "ipython",
    "version": 2
   },
   "file_extension": ".py",
   "mimetype": "text/x-python",
   "name": "python",
   "nbconvert_exporter": "python",
   "pygments_lexer": "ipython2",
   "version": "2.7.12"
  }
 },
 "nbformat": 4,
 "nbformat_minor": 2
}
