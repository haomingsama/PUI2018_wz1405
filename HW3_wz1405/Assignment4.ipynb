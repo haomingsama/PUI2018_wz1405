{
 "cells": [
  {
   "cell_type": "code",
   "execution_count": 43,
   "metadata": {},
   "outputs": [
    {
     "name": "stdout",
     "output_type": "stream",
     "text": [
      "Populating the interactive namespace from numpy and matplotlib\n"
     ]
    }
   ],
   "source": [
    "import os\n",
    "import csv\n",
    "import io\n",
    "import requests\n",
    "import pandas as pd\n",
    "import numpy as np\n",
    "import seaborn as sns\n",
    "import matplotlib.pyplot as plt\n",
    "from pandas import Series, DataFrame\n",
    "import json\n",
    "from pandas.io.json import json_normalize\n",
    "import sys\n",
    "\n",
    "puidata= os.getenv(\"PUIDATA\")\n",
    "if puidata is None:\n",
    "    os.environ[\"PUIDATA\"] = \"%s/PUIdata\"%os.getenv(\"HOME\")\n",
    "    \n",
    "try:\n",
    "    import urllib2 as urllib\n",
    "except ImportError:\n",
    "    import urllib.request as urllib\n",
    "\n",
    "%pylab inline"
   ]
  },
  {
   "cell_type": "code",
   "execution_count": 44,
   "metadata": {},
   "outputs": [],
   "source": [
    "url = \"http://bustime.mta.info/api/siri/vehicle-monitoring.json?&key=7f84d332-2f33-49c1-94f5-fdc4cf2231ae&OperatorRef=MTA&VehicleMonitoringDetailLevel=calls&LineRef=MTA%20NYCT_B9\" \n",
    "response = urllib.urlopen(url)\n",
    "data = response.read().decode(\"utf-8\")\n",
    "parsed_data = json.loads(data)"
   ]
  },
  {
   "cell_type": "code",
   "execution_count": 45,
   "metadata": {},
   "outputs": [
    {
     "name": "stdout",
     "output_type": "stream",
     "text": [
      "Stop Name : 60 ST/13 AV\n"
     ]
    }
   ],
   "source": [
    "print \"Stop Name : %s\" %  (parsed_data[\"Siri\"][\"ServiceDelivery\"][\"VehicleMonitoringDelivery\"][0][\"VehicleActivity\"][0][\"MonitoredVehicleJourney\"][\"OnwardCalls\"][\"OnwardCall\"][0][\"StopPointName\"])"
   ]
  },
  {
   "cell_type": "code",
   "execution_count": 46,
   "metadata": {},
   "outputs": [
    {
     "name": "stdout",
     "output_type": "stream",
     "text": [
      "Stop Status : at stop\n"
     ]
    }
   ],
   "source": [
    "print \"Stop Status : %s\" %  (parsed_data[\"Siri\"][\"ServiceDelivery\"][\"VehicleMonitoringDelivery\"][0][\"VehicleActivity\"][0]\n",
    "                             [\"MonitoredVehicleJourney\"][\"OnwardCalls\"][\"OnwardCall\"][0][\"Extensions\"][\"Distances\"][\"PresentableDistance\"])"
   ]
  },
  {
   "cell_type": "code",
   "execution_count": 52,
   "metadata": {},
   "outputs": [
    {
     "name": "stdout",
     "output_type": "stream",
     "text": [
      "Bus Line : B9\n",
      "Number of Active Buses : 4\n",
      "[u'Bus 0 is at Latitude 40.628928 Longitude -73.998713 60 ST/13 AV at stop']\n",
      "[u'Bus 1 is at Latitude 40.614057 Longitude -73.973696 60 ST/MC DONALD AV approaching']\n",
      "[u'Bus 2 is at Latitude 40.638755 Longitude -74.020685 4 AV/65 ST approaching']\n",
      "[u'Bus 3 is at Latitude 40.621327 Longitude -73.951886 AV L/BEDFORD AV approaching']\n"
     ]
    }
   ],
   "source": [
    "print \"Bus Line : %s\" %  (parsed_data[\"Siri\"][\"ServiceDelivery\"][\"VehicleMonitoringDelivery\"][0]\n",
    "      [\"VehicleActivity\"][0][\"MonitoredVehicleJourney\"][\"PublishedLineName\"])\n",
    "BusNumbers = (parsed_data[\"Siri\"][\"ServiceDelivery\"][\"VehicleMonitoringDelivery\"][0]\n",
    "      [\"VehicleActivity\"])\n",
    "print \"Number of Active Buses : %d\" % len (BusNumbers)\n",
    "BusNum = len (BusNumbers)\n",
    "for i in range(BusNum):\n",
    "    B = parsed_data[\"Siri\"][\"ServiceDelivery\"][\"VehicleMonitoringDelivery\"][0][\"VehicleActivity\"][i][\"MonitoredVehicleJourney\"][\"VehicleLocation\"][\"Latitude\"]\n",
    "    C = parsed_data[\"Siri\"][\"ServiceDelivery\"][\"VehicleMonitoringDelivery\"][0][\"VehicleActivity\"][i][\"MonitoredVehicleJourney\"][\"VehicleLocation\"][\"Longitude\"]\n",
    "    D = parsed_data[\"Siri\"][\"ServiceDelivery\"][\"VehicleMonitoringDelivery\"][0][\"VehicleActivity\"][i][\"MonitoredVehicleJourney\"][\"OnwardCalls\"][\"OnwardCall\"][0][\"StopPointName\"]\n",
    "    E = parsed_data[\"Siri\"][\"ServiceDelivery\"][\"VehicleMonitoringDelivery\"][0][\"VehicleActivity\"][i][\"MonitoredVehicleJourney\"][\"OnwardCalls\"][\"OnwardCall\"][0][\"Extensions\"][\"Distances\"][\"PresentableDistance\"]\n",
    "    G = [\"Bus %s\" % i + \" is at Latitude %s\" % B + \" Longitude %s\" % C +\" %s\" % D + \" %s\" % E ]\n",
    "    print (G)"
   ]
  },
  {
   "cell_type": "code",
   "execution_count": 55,
   "metadata": {},
   "outputs": [
    {
     "data": {
      "text/plain": [
       "[u'Bus 3 is at Latitude 40.621327 Longitude -73.951886 AV L/BEDFORD AV approaching']"
      ]
     },
     "execution_count": 55,
     "metadata": {},
     "output_type": "execute_result"
    }
   ],
   "source": [
    "G"
   ]
  },
  {
   "cell_type": "code",
   "execution_count": null,
   "metadata": {},
   "outputs": [],
   "source": [
    "G =  (B + \", %s\" % C + \", %s\" % D + \", %s\" % E)"
   ]
  },
  {
   "cell_type": "code",
   "execution_count": 49,
   "metadata": {},
   "outputs": [
    {
     "ename": "TypeError",
     "evalue": "'newline' is an invalid keyword argument for this function",
     "output_type": "error",
     "traceback": [
      "\u001b[0;31m\u001b[0m",
      "\u001b[0;31mTypeError\u001b[0mTraceback (most recent call last)",
      "\u001b[0;32m<ipython-input-49-4eb21cca12d5>\u001b[0m in \u001b[0;36m<module>\u001b[0;34m()\u001b[0m\n\u001b[1;32m      1\u001b[0m \u001b[0;31m#https://automatetheboringstuff.com/chapter14/\u001b[0m\u001b[0;34m\u001b[0m\u001b[0;34m\u001b[0m\u001b[0m\n\u001b[0;32m----> 2\u001b[0;31m \u001b[0moutputFile\u001b[0m \u001b[0;34m=\u001b[0m \u001b[0mopen\u001b[0m\u001b[0;34m(\u001b[0m\u001b[0;34m'123.csv'\u001b[0m\u001b[0;34m,\u001b[0m \u001b[0;34m'w'\u001b[0m\u001b[0;34m,\u001b[0m \u001b[0mnewline\u001b[0m\u001b[0;34m=\u001b[0m\u001b[0;34m''\u001b[0m\u001b[0;34m)\u001b[0m\u001b[0;34m\u001b[0m\u001b[0m\n\u001b[0m\u001b[1;32m      3\u001b[0m \u001b[0moutputWriter\u001b[0m \u001b[0;34m=\u001b[0m \u001b[0mcsv\u001b[0m\u001b[0;34m.\u001b[0m\u001b[0mwriter\u001b[0m\u001b[0;34m(\u001b[0m\u001b[0moutputFile\u001b[0m\u001b[0;34m)\u001b[0m\u001b[0;34m\u001b[0m\u001b[0m\n\u001b[1;32m      4\u001b[0m \u001b[0moutputWriter\u001b[0m\u001b[0;34m.\u001b[0m\u001b[0mwriterow\u001b[0m\u001b[0;34m(\u001b[0m\u001b[0;34m[\u001b[0m\u001b[0mG\u001b[0m\u001b[0;34m]\u001b[0m\u001b[0;34m)\u001b[0m\u001b[0;34m\u001b[0m\u001b[0m\n\u001b[1;32m      5\u001b[0m \u001b[0moutputWriter\u001b[0m\u001b[0;34m.\u001b[0m\u001b[0mwriterow\u001b[0m\u001b[0;34m(\u001b[0m\u001b[0;34m[\u001b[0m\u001b[0;34m'Hello, world!'\u001b[0m\u001b[0;34m,\u001b[0m \u001b[0;34m'eggs'\u001b[0m\u001b[0;34m,\u001b[0m \u001b[0;34m'bacon'\u001b[0m\u001b[0;34m,\u001b[0m \u001b[0;34m'ham'\u001b[0m\u001b[0;34m]\u001b[0m\u001b[0;34m)\u001b[0m\u001b[0;34m\u001b[0m\u001b[0m\n",
      "\u001b[0;31mTypeError\u001b[0m: 'newline' is an invalid keyword argument for this function"
     ]
    }
   ],
   "source": [
    "#https://automatetheboringstuff.com/chapter14/ \n",
    "#outputFile = open('123.csv', 'w', newline='')\n",
    "#outputWriter = csv.writer(outputFile)\n",
    "#outputWriter.writerow([G])\n",
    "#outputWriter.writerow(['Hello, world!', 'eggs', 'bacon', 'ham'])\n",
    "#outputWriter.writerow([1, 2, 3.141592, 4])\n",
    "#outputFile.close()"
   ]
  },
  {
   "cell_type": "code",
   "execution_count": null,
   "metadata": {},
   "outputs": [],
   "source": []
  }
 ],
 "metadata": {
  "kernelspec": {
   "display_name": "PUI2016_Python2",
   "language": "python",
   "name": "pui2016_python2"
  },
  "language_info": {
   "codemirror_mode": {
    "name": "ipython",
    "version": 2
   },
   "file_extension": ".py",
   "mimetype": "text/x-python",
   "name": "python",
   "nbconvert_exporter": "python",
   "pygments_lexer": "ipython2",
   "version": "2.7.12"
  }
 },
 "nbformat": 4,
 "nbformat_minor": 2
}
